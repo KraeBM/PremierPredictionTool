{
 "cells": [
  {
   "cell_type": "code",
   "execution_count": 1,
   "metadata": {
    "colab": {
     "base_uri": "https://localhost:8080/",
     "height": 54
    },
    "executionInfo": {
     "elapsed": 109,
     "status": "ok",
     "timestamp": 1741460937948,
     "user": {
      "displayName": "Krae",
      "userId": "17764000611175199353"
     },
     "user_tz": 0
    },
    "id": "WYthEemPHSV4",
    "outputId": "9bf09746-8c33-4ae0-d0d0-65fede51e4b5"
   },
   "outputs": [
    {
     "data": {
      "application/vnd.google.colaboratory.intrinsic+json": {
       "type": "string"
      },
      "text/plain": [
       "'\\n\\nENGLISH PREMIER LEAGUE CHAMPION PREDICTION PROJECT\\n\\nTECHNIQUE 3: Simulation (Monte Carlo) Approach\\n\\n\\nDataset:\\nPremier League Matches 1992-2022\\nhttps://www.kaggle.com/datasets/evangower/premier-league-matches-19922022/data?select=premier-league-matches.csv\\n\\n'"
      ]
     },
     "execution_count": 1,
     "metadata": {},
     "output_type": "execute_result"
    }
   ],
   "source": [
    "'''\n",
    "\n",
    "ENGLISH PREMIER LEAGUE CHAMPION PREDICTION PROJECT\n",
    "\n",
    "TECHNIQUE 3: Simulation (Monte Carlo) Approach\n",
    "\n",
    "\n",
    "Dataset:\n",
    "Premier League Matches 1992-2022\n",
    "https://www.kaggle.com/datasets/evangower/premier-league-matches-19922022/data?select=premier-league-matches.csv\n",
    "\n",
    "'''"
   ]
  },
  {
   "cell_type": "markdown",
   "metadata": {
    "id": "34uZyhqRXkfX"
   },
   "source": [
    "# **IMPORT NECESSARY MODULES**"
   ]
  },
  {
   "cell_type": "markdown",
   "metadata": {
    "id": "gRbY2woebCfM"
   },
   "source": [
    "**Load Modules**"
   ]
  },
  {
   "cell_type": "code",
   "execution_count": 2,
   "metadata": {
    "executionInfo": {
     "elapsed": 4739,
     "status": "ok",
     "timestamp": 1741460942705,
     "user": {
      "displayName": "Krae",
      "userId": "17764000611175199353"
     },
     "user_tz": 0
    },
    "id": "twi4ql9bXo1r"
   },
   "outputs": [],
   "source": [
    "# data\n",
    "import numpy as np\n",
    "import pandas as pd\n",
    "\n",
    "# Randomization\n",
    "import random\n",
    "\n",
    "# Evaluate Performance\n",
    "from sklearn.metrics import mean_absolute_error"
   ]
  },
  {
   "cell_type": "markdown",
   "metadata": {
    "id": "jE2aLMSeQ56w"
   },
   "source": []
  },
  {
   "cell_type": "markdown",
   "metadata": {
    "id": "nHhAXwHtbKwX"
   },
   "source": [
    "# **LOAD & PREPROCESS DATASET**"
   ]
  },
  {
   "cell_type": "markdown",
   "metadata": {
    "id": "NIQzGypNRGIG"
   },
   "source": [
    "**Correctly choosing the Datasets folder and file**"
   ]
  },
  {
   "cell_type": "markdown",
   "metadata": {
    "id": "vC_wk_fQcNTI"
   },
   "source": [
    "Ensures folder is correct and found correctly with the \"../datasets\" etc"
   ]
  },
  {
   "cell_type": "code",
   "execution_count": 8,
   "metadata": {
    "colab": {
     "base_uri": "https://localhost:8080/"
    },
    "executionInfo": {
     "elapsed": 10,
     "status": "ok",
     "timestamp": 1741461018666,
     "user": {
      "displayName": "Krae",
      "userId": "17764000611175199353"
     },
     "user_tz": 0
    },
    "id": "ROWRQfzBRK7o",
    "outputId": "899c6eaf-b499-4ebe-a9ce-487517ee0bb0"
   },
   "outputs": [
    {
     "name": "stdout",
     "output_type": "stream",
     "text": [
      "Datasets folder is already in the correct location.\n"
     ]
    }
   ],
   "source": [
    "import os\n",
    "\n",
    "original_path = \"/content/Datasets\"\n",
    "target_path = \"/content/../Datasets\"\n",
    "\n",
    "# Check if the original path exists before renaming\n",
    "if os.path.exists(original_path):\n",
    "    os.rename(original_path, target_path)\n",
    "elif os.path.exists(target_path):\n",
    "    print(\"Datasets folder is already in the correct location.\")"
   ]
  },
  {
   "cell_type": "markdown",
   "metadata": {
    "id": "EajHg_jBXBZI"
   },
   "source": [
    "**Load Dataset**"
   ]
  },
  {
   "cell_type": "markdown",
   "metadata": {
    "id": "NbRN75zZrQEQ"
   },
   "source": [
    "reads and loads the dataset into a pandas dataframe"
   ]
  },
  {
   "cell_type": "code",
   "execution_count": 9,
   "metadata": {
    "executionInfo": {
     "elapsed": 29,
     "status": "ok",
     "timestamp": 1741461020221,
     "user": {
      "displayName": "Krae",
      "userId": "17764000611175199353"
     },
     "user_tz": 0
    },
    "id": "SR2Rg4klXUO6"
   },
   "outputs": [],
   "source": [
    "premier_league_matches_dataset = pd.read_csv('../Datasets/premier-league-matches.csv')"
   ]
  },
  {
   "cell_type": "markdown",
   "metadata": {
    "id": "s_JQATD8bmWR"
   },
   "source": [
    "**Read Dataset**"
   ]
  },
  {
   "cell_type": "code",
   "execution_count": 11,
   "metadata": {
    "colab": {
     "base_uri": "https://localhost:8080/",
     "height": 242
    },
    "executionInfo": {
     "elapsed": 110,
     "status": "ok",
     "timestamp": 1741461027671,
     "user": {
      "displayName": "Krae",
      "userId": "17764000611175199353"
     },
     "user_tz": 0
    },
    "id": "V7hj7ZJxXhBN",
    "outputId": "3b5e463b-693f-45ab-e83e-a53867000d3c"
   },
   "outputs": [
    {
     "name": "stdout",
     "output_type": "stream",
     "text": [
      "Read Dataset Completed Sucessfully\n",
      "\n"
     ]
    },
    {
     "data": {
      "application/vnd.google.colaboratory.intrinsic+json": {
       "summary": "{\n  \"name\": \"premier_league_matches_dataset\",\n  \"rows\": 12026,\n  \"fields\": [\n    {\n      \"column\": \"Season_End_Year\",\n      \"properties\": {\n        \"dtype\": \"number\",\n        \"std\": 9,\n        \"min\": 1993,\n        \"max\": 2023,\n        \"num_unique_values\": 31,\n        \"samples\": [\n          2020,\n          2008,\n          2016\n        ],\n        \"semantic_type\": \"\",\n        \"description\": \"\"\n      }\n    },\n    {\n      \"column\": \"Wk\",\n      \"properties\": {\n        \"dtype\": \"number\",\n        \"std\": 11,\n        \"min\": 1,\n        \"max\": 42,\n        \"num_unique_values\": 42,\n        \"samples\": [\n          25,\n          14,\n          9\n        ],\n        \"semantic_type\": \"\",\n        \"description\": \"\"\n      }\n    },\n    {\n      \"column\": \"Date\",\n      \"properties\": {\n        \"dtype\": \"object\",\n        \"num_unique_values\": 3286,\n        \"samples\": [\n          \"2013-11-02\",\n          \"2015-02-08\",\n          \"2008-04-05\"\n        ],\n        \"semantic_type\": \"\",\n        \"description\": \"\"\n      }\n    },\n    {\n      \"column\": \"Home\",\n      \"properties\": {\n        \"dtype\": \"category\",\n        \"num_unique_values\": 50,\n        \"samples\": [\n          \"Tottenham\",\n          \"Reading\",\n          \"Charlton Ath\"\n        ],\n        \"semantic_type\": \"\",\n        \"description\": \"\"\n      }\n    },\n    {\n      \"column\": \"HomeGoals\",\n      \"properties\": {\n        \"dtype\": \"number\",\n        \"std\": 1,\n        \"min\": 0,\n        \"max\": 9,\n        \"num_unique_values\": 10,\n        \"samples\": [\n          9,\n          3,\n          5\n        ],\n        \"semantic_type\": \"\",\n        \"description\": \"\"\n      }\n    },\n    {\n      \"column\": \"AwayGoals\",\n      \"properties\": {\n        \"dtype\": \"number\",\n        \"std\": 1,\n        \"min\": 0,\n        \"max\": 9,\n        \"num_unique_values\": 10,\n        \"samples\": [\n          8,\n          3,\n          5\n        ],\n        \"semantic_type\": \"\",\n        \"description\": \"\"\n      }\n    },\n    {\n      \"column\": \"Away\",\n      \"properties\": {\n        \"dtype\": \"category\",\n        \"num_unique_values\": 50,\n        \"samples\": [\n          \"Coventry City\",\n          \"Reading\",\n          \"Charlton Ath\"\n        ],\n        \"semantic_type\": \"\",\n        \"description\": \"\"\n      }\n    },\n    {\n      \"column\": \"FTR\",\n      \"properties\": {\n        \"dtype\": \"category\",\n        \"num_unique_values\": 3,\n        \"samples\": [\n          \"H\",\n          \"D\",\n          \"A\"\n        ],\n        \"semantic_type\": \"\",\n        \"description\": \"\"\n      }\n    }\n  ]\n}",
       "type": "dataframe",
       "variable_name": "premier_league_matches_dataset"
      },
      "text/html": [
       "\n",
       "  <div id=\"df-ae350ea2-6ae5-4ec4-a75f-c4e70e2a5d45\" class=\"colab-df-container\">\n",
       "    <div>\n",
       "<style scoped>\n",
       "    .dataframe tbody tr th:only-of-type {\n",
       "        vertical-align: middle;\n",
       "    }\n",
       "\n",
       "    .dataframe tbody tr th {\n",
       "        vertical-align: top;\n",
       "    }\n",
       "\n",
       "    .dataframe thead th {\n",
       "        text-align: right;\n",
       "    }\n",
       "</style>\n",
       "<table border=\"1\" class=\"dataframe\">\n",
       "  <thead>\n",
       "    <tr style=\"text-align: right;\">\n",
       "      <th></th>\n",
       "      <th>Season_End_Year</th>\n",
       "      <th>Wk</th>\n",
       "      <th>Date</th>\n",
       "      <th>Home</th>\n",
       "      <th>HomeGoals</th>\n",
       "      <th>AwayGoals</th>\n",
       "      <th>Away</th>\n",
       "      <th>FTR</th>\n",
       "    </tr>\n",
       "  </thead>\n",
       "  <tbody>\n",
       "    <tr>\n",
       "      <th>0</th>\n",
       "      <td>1993</td>\n",
       "      <td>1</td>\n",
       "      <td>1992-08-15</td>\n",
       "      <td>Coventry City</td>\n",
       "      <td>2</td>\n",
       "      <td>1</td>\n",
       "      <td>Middlesbrough</td>\n",
       "      <td>H</td>\n",
       "    </tr>\n",
       "    <tr>\n",
       "      <th>1</th>\n",
       "      <td>1993</td>\n",
       "      <td>1</td>\n",
       "      <td>1992-08-15</td>\n",
       "      <td>Leeds United</td>\n",
       "      <td>2</td>\n",
       "      <td>1</td>\n",
       "      <td>Wimbledon</td>\n",
       "      <td>H</td>\n",
       "    </tr>\n",
       "    <tr>\n",
       "      <th>2</th>\n",
       "      <td>1993</td>\n",
       "      <td>1</td>\n",
       "      <td>1992-08-15</td>\n",
       "      <td>Sheffield Utd</td>\n",
       "      <td>2</td>\n",
       "      <td>1</td>\n",
       "      <td>Manchester Utd</td>\n",
       "      <td>H</td>\n",
       "    </tr>\n",
       "    <tr>\n",
       "      <th>3</th>\n",
       "      <td>1993</td>\n",
       "      <td>1</td>\n",
       "      <td>1992-08-15</td>\n",
       "      <td>Crystal Palace</td>\n",
       "      <td>3</td>\n",
       "      <td>3</td>\n",
       "      <td>Blackburn</td>\n",
       "      <td>D</td>\n",
       "    </tr>\n",
       "    <tr>\n",
       "      <th>4</th>\n",
       "      <td>1993</td>\n",
       "      <td>1</td>\n",
       "      <td>1992-08-15</td>\n",
       "      <td>Arsenal</td>\n",
       "      <td>2</td>\n",
       "      <td>4</td>\n",
       "      <td>Norwich City</td>\n",
       "      <td>A</td>\n",
       "    </tr>\n",
       "  </tbody>\n",
       "</table>\n",
       "</div>\n",
       "    <div class=\"colab-df-buttons\">\n",
       "\n",
       "  <div class=\"colab-df-container\">\n",
       "    <button class=\"colab-df-convert\" onclick=\"convertToInteractive('df-ae350ea2-6ae5-4ec4-a75f-c4e70e2a5d45')\"\n",
       "            title=\"Convert this dataframe to an interactive table.\"\n",
       "            style=\"display:none;\">\n",
       "\n",
       "  <svg xmlns=\"http://www.w3.org/2000/svg\" height=\"24px\" viewBox=\"0 -960 960 960\">\n",
       "    <path d=\"M120-120v-720h720v720H120Zm60-500h600v-160H180v160Zm220 220h160v-160H400v160Zm0 220h160v-160H400v160ZM180-400h160v-160H180v160Zm440 0h160v-160H620v160ZM180-180h160v-160H180v160Zm440 0h160v-160H620v160Z\"/>\n",
       "  </svg>\n",
       "    </button>\n",
       "\n",
       "  <style>\n",
       "    .colab-df-container {\n",
       "      display:flex;\n",
       "      gap: 12px;\n",
       "    }\n",
       "\n",
       "    .colab-df-convert {\n",
       "      background-color: #E8F0FE;\n",
       "      border: none;\n",
       "      border-radius: 50%;\n",
       "      cursor: pointer;\n",
       "      display: none;\n",
       "      fill: #1967D2;\n",
       "      height: 32px;\n",
       "      padding: 0 0 0 0;\n",
       "      width: 32px;\n",
       "    }\n",
       "\n",
       "    .colab-df-convert:hover {\n",
       "      background-color: #E2EBFA;\n",
       "      box-shadow: 0px 1px 2px rgba(60, 64, 67, 0.3), 0px 1px 3px 1px rgba(60, 64, 67, 0.15);\n",
       "      fill: #174EA6;\n",
       "    }\n",
       "\n",
       "    .colab-df-buttons div {\n",
       "      margin-bottom: 4px;\n",
       "    }\n",
       "\n",
       "    [theme=dark] .colab-df-convert {\n",
       "      background-color: #3B4455;\n",
       "      fill: #D2E3FC;\n",
       "    }\n",
       "\n",
       "    [theme=dark] .colab-df-convert:hover {\n",
       "      background-color: #434B5C;\n",
       "      box-shadow: 0px 1px 3px 1px rgba(0, 0, 0, 0.15);\n",
       "      filter: drop-shadow(0px 1px 2px rgba(0, 0, 0, 0.3));\n",
       "      fill: #FFFFFF;\n",
       "    }\n",
       "  </style>\n",
       "\n",
       "    <script>\n",
       "      const buttonEl =\n",
       "        document.querySelector('#df-ae350ea2-6ae5-4ec4-a75f-c4e70e2a5d45 button.colab-df-convert');\n",
       "      buttonEl.style.display =\n",
       "        google.colab.kernel.accessAllowed ? 'block' : 'none';\n",
       "\n",
       "      async function convertToInteractive(key) {\n",
       "        const element = document.querySelector('#df-ae350ea2-6ae5-4ec4-a75f-c4e70e2a5d45');\n",
       "        const dataTable =\n",
       "          await google.colab.kernel.invokeFunction('convertToInteractive',\n",
       "                                                    [key], {});\n",
       "        if (!dataTable) return;\n",
       "\n",
       "        const docLinkHtml = 'Like what you see? Visit the ' +\n",
       "          '<a target=\"_blank\" href=https://colab.research.google.com/notebooks/data_table.ipynb>data table notebook</a>'\n",
       "          + ' to learn more about interactive tables.';\n",
       "        element.innerHTML = '';\n",
       "        dataTable['output_type'] = 'display_data';\n",
       "        await google.colab.output.renderOutput(dataTable, element);\n",
       "        const docLink = document.createElement('div');\n",
       "        docLink.innerHTML = docLinkHtml;\n",
       "        element.appendChild(docLink);\n",
       "      }\n",
       "    </script>\n",
       "  </div>\n",
       "\n",
       "\n",
       "<div id=\"df-548175ae-cb63-4c34-8df5-c67e5af8810e\">\n",
       "  <button class=\"colab-df-quickchart\" onclick=\"quickchart('df-548175ae-cb63-4c34-8df5-c67e5af8810e')\"\n",
       "            title=\"Suggest charts\"\n",
       "            style=\"display:none;\">\n",
       "\n",
       "<svg xmlns=\"http://www.w3.org/2000/svg\" height=\"24px\"viewBox=\"0 0 24 24\"\n",
       "     width=\"24px\">\n",
       "    <g>\n",
       "        <path d=\"M19 3H5c-1.1 0-2 .9-2 2v14c0 1.1.9 2 2 2h14c1.1 0 2-.9 2-2V5c0-1.1-.9-2-2-2zM9 17H7v-7h2v7zm4 0h-2V7h2v10zm4 0h-2v-4h2v4z\"/>\n",
       "    </g>\n",
       "</svg>\n",
       "  </button>\n",
       "\n",
       "<style>\n",
       "  .colab-df-quickchart {\n",
       "      --bg-color: #E8F0FE;\n",
       "      --fill-color: #1967D2;\n",
       "      --hover-bg-color: #E2EBFA;\n",
       "      --hover-fill-color: #174EA6;\n",
       "      --disabled-fill-color: #AAA;\n",
       "      --disabled-bg-color: #DDD;\n",
       "  }\n",
       "\n",
       "  [theme=dark] .colab-df-quickchart {\n",
       "      --bg-color: #3B4455;\n",
       "      --fill-color: #D2E3FC;\n",
       "      --hover-bg-color: #434B5C;\n",
       "      --hover-fill-color: #FFFFFF;\n",
       "      --disabled-bg-color: #3B4455;\n",
       "      --disabled-fill-color: #666;\n",
       "  }\n",
       "\n",
       "  .colab-df-quickchart {\n",
       "    background-color: var(--bg-color);\n",
       "    border: none;\n",
       "    border-radius: 50%;\n",
       "    cursor: pointer;\n",
       "    display: none;\n",
       "    fill: var(--fill-color);\n",
       "    height: 32px;\n",
       "    padding: 0;\n",
       "    width: 32px;\n",
       "  }\n",
       "\n",
       "  .colab-df-quickchart:hover {\n",
       "    background-color: var(--hover-bg-color);\n",
       "    box-shadow: 0 1px 2px rgba(60, 64, 67, 0.3), 0 1px 3px 1px rgba(60, 64, 67, 0.15);\n",
       "    fill: var(--button-hover-fill-color);\n",
       "  }\n",
       "\n",
       "  .colab-df-quickchart-complete:disabled,\n",
       "  .colab-df-quickchart-complete:disabled:hover {\n",
       "    background-color: var(--disabled-bg-color);\n",
       "    fill: var(--disabled-fill-color);\n",
       "    box-shadow: none;\n",
       "  }\n",
       "\n",
       "  .colab-df-spinner {\n",
       "    border: 2px solid var(--fill-color);\n",
       "    border-color: transparent;\n",
       "    border-bottom-color: var(--fill-color);\n",
       "    animation:\n",
       "      spin 1s steps(1) infinite;\n",
       "  }\n",
       "\n",
       "  @keyframes spin {\n",
       "    0% {\n",
       "      border-color: transparent;\n",
       "      border-bottom-color: var(--fill-color);\n",
       "      border-left-color: var(--fill-color);\n",
       "    }\n",
       "    20% {\n",
       "      border-color: transparent;\n",
       "      border-left-color: var(--fill-color);\n",
       "      border-top-color: var(--fill-color);\n",
       "    }\n",
       "    30% {\n",
       "      border-color: transparent;\n",
       "      border-left-color: var(--fill-color);\n",
       "      border-top-color: var(--fill-color);\n",
       "      border-right-color: var(--fill-color);\n",
       "    }\n",
       "    40% {\n",
       "      border-color: transparent;\n",
       "      border-right-color: var(--fill-color);\n",
       "      border-top-color: var(--fill-color);\n",
       "    }\n",
       "    60% {\n",
       "      border-color: transparent;\n",
       "      border-right-color: var(--fill-color);\n",
       "    }\n",
       "    80% {\n",
       "      border-color: transparent;\n",
       "      border-right-color: var(--fill-color);\n",
       "      border-bottom-color: var(--fill-color);\n",
       "    }\n",
       "    90% {\n",
       "      border-color: transparent;\n",
       "      border-bottom-color: var(--fill-color);\n",
       "    }\n",
       "  }\n",
       "</style>\n",
       "\n",
       "  <script>\n",
       "    async function quickchart(key) {\n",
       "      const quickchartButtonEl =\n",
       "        document.querySelector('#' + key + ' button');\n",
       "      quickchartButtonEl.disabled = true;  // To prevent multiple clicks.\n",
       "      quickchartButtonEl.classList.add('colab-df-spinner');\n",
       "      try {\n",
       "        const charts = await google.colab.kernel.invokeFunction(\n",
       "            'suggestCharts', [key], {});\n",
       "      } catch (error) {\n",
       "        console.error('Error during call to suggestCharts:', error);\n",
       "      }\n",
       "      quickchartButtonEl.classList.remove('colab-df-spinner');\n",
       "      quickchartButtonEl.classList.add('colab-df-quickchart-complete');\n",
       "    }\n",
       "    (() => {\n",
       "      let quickchartButtonEl =\n",
       "        document.querySelector('#df-548175ae-cb63-4c34-8df5-c67e5af8810e button');\n",
       "      quickchartButtonEl.style.display =\n",
       "        google.colab.kernel.accessAllowed ? 'block' : 'none';\n",
       "    })();\n",
       "  </script>\n",
       "</div>\n",
       "\n",
       "    </div>\n",
       "  </div>\n"
      ],
      "text/plain": [
       "   Season_End_Year  Wk        Date            Home  HomeGoals  AwayGoals  \\\n",
       "0             1993   1  1992-08-15   Coventry City          2          1   \n",
       "1             1993   1  1992-08-15    Leeds United          2          1   \n",
       "2             1993   1  1992-08-15   Sheffield Utd          2          1   \n",
       "3             1993   1  1992-08-15  Crystal Palace          3          3   \n",
       "4             1993   1  1992-08-15         Arsenal          2          4   \n",
       "\n",
       "             Away FTR  \n",
       "0   Middlesbrough   H  \n",
       "1       Wimbledon   H  \n",
       "2  Manchester Utd   H  \n",
       "3       Blackburn   D  \n",
       "4    Norwich City   A  "
      ]
     },
     "execution_count": 11,
     "metadata": {},
     "output_type": "execute_result"
    }
   ],
   "source": [
    "  print(\"Read Dataset Completed Sucessfully\\n\")\n",
    "    #Verifies if data has been loaded correctly and displays structure of dataset\n",
    "  premier_league_matches_dataset.head(5)"
   ]
  },
  {
   "cell_type": "markdown",
   "metadata": {
    "id": "au1H1DxmbD3J"
   },
   "source": [
    "# **GENERATE LEAGUE STANDINGS**"
   ]
  },
  {
   "cell_type": "code",
   "execution_count": null,
   "metadata": {
    "executionInfo": {
     "elapsed": 2,
     "status": "aborted",
     "timestamp": 1741460943498,
     "user": {
      "displayName": "Krae",
      "userId": "17764000611175199353"
     },
     "user_tz": 0
    },
    "id": "VljbeZQobKsS"
   },
   "outputs": [],
   "source": [
    "# Create an empty list to store league tables\n",
    "league_standings = []\n",
    "\n",
    "# Process standings for each season\n",
    "for season in premier_league_matches_dataset['Season_End_Year'].unique():\n",
    "    # Filter matches for this season and stores it\n",
    "    season_matches = premier_league_matches_dataset[premier_league_matches_dataset['Season_End_Year'] == season]\n",
    "\n",
    "    # Initialize a dictionary to track team preformance stats\n",
    "    team_stats = {}\n",
    "\n",
    "    for _, match in season_matches.iterrows():\n",
    "        home_team = match['Home']\n",
    "        away_team = match['Away']\n",
    "        home_goals = match['HomeGoals']\n",
    "        away_goals = match['AwayGoals']\n",
    "        result = match['FTR']   # 'H' = Home win,'A' = Away win,'D' = Draw\n",
    "\n",
    "        # Ensure teams exist in dictionary\n",
    "        if home_team not in team_stats:\n",
    "            team_stats[home_team] = {'Pld': 0, 'W': 0, 'D': 0, 'L': 0, 'GF': 0, 'GA': 0, 'GD': 0, 'Pts': 0}\n",
    "        if away_team not in team_stats:\n",
    "            team_stats[away_team] = {'Pld': 0, 'W': 0, 'D': 0, 'L': 0, 'GF': 0, 'GA': 0, 'GD': 0, 'Pts': 0}\n",
    "\n",
    "        # Update stats for home team\n",
    "        team_stats[home_team]['Pld'] += 1\n",
    "        team_stats[home_team]['GF'] += home_goals\n",
    "        team_stats[home_team]['GA'] += away_goals\n",
    "        team_stats[home_team]['GD'] = team_stats[home_team]['GF'] - team_stats[home_team]['GA']\n",
    "\n",
    "        # Update stats for away team\n",
    "        team_stats[away_team]['Pld'] += 1\n",
    "        team_stats[away_team]['GF'] += away_goals\n",
    "        team_stats[away_team]['GA'] += home_goals\n",
    "        team_stats[away_team]['GD'] = team_stats[away_team]['GF'] - team_stats[away_team]['GA']\n",
    "\n",
    "        # Assign points based on result\n",
    "        if result == 'H':  # Home win\n",
    "            team_stats[home_team]['W'] += 1\n",
    "            team_stats[home_team]['Pts'] += 3\n",
    "            team_stats[away_team]['L'] += 1\n",
    "        elif result == 'A':  # Away win\n",
    "            team_stats[away_team]['W'] += 1\n",
    "            team_stats[away_team]['Pts'] += 3\n",
    "            team_stats[home_team]['L'] += 1\n",
    "        else:  # Draw\n",
    "            team_stats[home_team]['D'] += 1\n",
    "            team_stats[away_team]['D'] += 1\n",
    "            team_stats[home_team]['Pts'] += 1\n",
    "            team_stats[away_team]['Pts'] += 1\n",
    "\n",
    "    # Convert dictionary to DataFrame\n",
    "    standings_df = pd.DataFrame.from_dict(team_stats, orient='index')\n",
    "    standings_df.insert(0, 'Team', standings_df.index)\n",
    "    standings_df.insert(1, 'Season', season)\n",
    "\n",
    "    # Sort by Points -> GD -> GF\n",
    "    standings_df = standings_df.sort_values(by=['Pts', 'GD', 'GF'], ascending=[False, False, False]).reset_index(drop=True)\n",
    "\n",
    "    # Assign position (Rank)\n",
    "    standings_df.insert(0, 'Pos', standings_df.index + 1)\n",
    "\n",
    "    # **Filter to only keep the top 10 teams per season**\n",
    "    standings_df = standings_df.head(10)\n",
    "\n",
    "    # Append standings for this season\n",
    "    league_standings.append(standings_df)\n",
    "\n",
    "# Combine all seasons into one DataFrame\n",
    "final_league_standings = pd.concat(league_standings, ignore_index=True)\n",
    "\n",
    "# Define the path where you want to save the file in Google Drive\n",
    "save_path = \"../Datasets/Premier_League_Standings.csv\"\n",
    "\n",
    "# Save the DataFrame to Google Drive - found in Datasets folder !\n",
    "final_league_standings.to_csv(save_path, index=False)\n",
    "\n",
    "print(f\"File saved successfully at: {save_path}\")\n",
    "\n",
    "# KEY\n",
    "print('\\nKEY:\\nPos: League Ranking\\nPld: Played\\nW: Won\\nD: Drawn\\nL: Lost\\nGF: Goals For\\nGA: Goals Against\\nGD: Goal Difference\\nPts: Points\\n')\n",
    "\n",
    "# Display the final league standings - shows it works :D\n",
    "final_league_standings.head(200)  # Display first 5 rows"
   ]
  },
  {
   "cell_type": "markdown",
   "metadata": {
    "id": "BVrLK_oQaMNm"
   },
   "source": [
    "#  Part 2\n"
   ]
  },
  {
   "cell_type": "markdown",
   "metadata": {
    "id": "y_UrBcARaTiw"
   },
   "source": [
    "**Compute historical performance averages (Points, Goals, etc.)**"
   ]
  },
  {
   "cell_type": "code",
   "execution_count": null,
   "metadata": {
    "executionInfo": {
     "elapsed": 5790,
     "status": "aborted",
     "timestamp": 1741460943502,
     "user": {
      "displayName": "Krae",
      "userId": "17764000611175199353"
     },
     "user_tz": 0
    },
    "id": "eRlUO2_qaTix"
   },
   "outputs": [],
   "source": [
    "# Give much higher importance to last 5 years\n",
    "# e.g. 2018 = 1 + (2018-2015)/5 = 1.6 (more important that 2015 which was 1)\n",
    "data[\"SeasonWeight\"] = data[\"Season\"].apply(lambda x: 1 if x < 2015 else (1 + (x - 2015) / 5))\n",
    "\n",
    "# Compute weighted team performance\n",
    "team_performance = data.groupby(\"Team\").apply(lambda x: pd.Series({\n",
    "    \"Weighted_Pts\": np.average(x[\"Pts\"], weights=x[\"SeasonWeight\"]),\n",
    "    \"GF\": np.average(x[\"GF\"], weights=x[\"SeasonWeight\"]),\n",
    "    \"GA\": np.average(x[\"GA\"], weights=x[\"SeasonWeight\"]),\n",
    "    \"GD\": np.average(x[\"GD\"], weights=x[\"SeasonWeight\"]),\n",
    "    \"W\": np.average(x[\"W\"], weights=x[\"SeasonWeight\"]),\n",
    "    \"D\": np.average(x[\"D\"], weights=x[\"SeasonWeight\"]),\n",
    "    \"L\": np.average(x[\"L\"], weights=x[\"SeasonWeight\"]),\n",
    "    \"Pld\": np.average(x[\"Pld\"], weights=x[\"SeasonWeight\"])\n",
    "})).reset_index()"
   ]
  },
  {
   "cell_type": "markdown",
   "metadata": {
    "id": "_ocTA15saTix"
   },
   "source": [
    "**Normalize team strengths**"
   ]
  },
  {
   "cell_type": "code",
   "execution_count": null,
   "metadata": {
    "executionInfo": {
     "elapsed": 5873,
     "status": "aborted",
     "timestamp": 1741460943585,
     "user": {
      "displayName": "Krae",
      "userId": "17764000611175199353"
     },
     "user_tz": 0
    },
    "id": "s-zcnR77aTix"
   },
   "outputs": [],
   "source": [
    " # Calculates the teams Strength, Weakness and Win rate\n",
    "team_performance[\"Attack_Strength\"] = team_performance[\"GF\"] / team_performance[\"Pld\"]\n",
    "team_performance[\"Defense_Strength\"] = team_performance[\"GA\"] / team_performance[\"Pld\"]\n",
    "team_performance[\"Win_Rate\"] = team_performance[\"W\"] / team_performance[\"Pld\"]\n",
    "\n",
    "print(team_performance.head(5))  # Verify and display the computed values with 5 teams"
   ]
  },
  {
   "cell_type": "markdown",
   "metadata": {
    "id": "x0i-lsjMaTix"
   },
   "source": [
    "**Convert to dictionary for fast lookup**\n",
    "\n"
   ]
  },
  {
   "cell_type": "code",
   "execution_count": null,
   "metadata": {
    "executionInfo": {
     "elapsed": 5874,
     "status": "aborted",
     "timestamp": 1741460943587,
     "user": {
      "displayName": "Krae",
      "userId": "17764000611175199353"
     },
     "user_tz": 0
    },
    "id": "CgcmFsY7aTiy"
   },
   "outputs": [],
   "source": [
    "#Converts into dictionary for fast lookup for later\n",
    "team_stats_dict = team_performance.set_index(\"Team\")[\n",
    "    [\"Attack_Strength\", \"Defense_Strength\", \"Win_Rate\"]\n",
    "].to_dict(orient=\"index\")"
   ]
  },
  {
   "cell_type": "markdown",
   "metadata": {
    "id": "JxBWTByHgQEu"
   },
   "source": [
    "# **Define a Monte Carlo simulation function**"
   ]
  },
  {
   "cell_type": "code",
   "execution_count": null,
   "metadata": {
    "executionInfo": {
     "elapsed": 5874,
     "status": "aborted",
     "timestamp": 1741460943588,
     "user": {
      "displayName": "Krae",
      "userId": "17764000611175199353"
     },
     "user_tz": 0
    },
    "id": "W_2vQ7psgT3_"
   },
   "outputs": [],
   "source": [
    "def simulate_match(home_team, away_team):\n",
    "    \"\"\"Simulates a match outcome using historical performance metrics with valid probabilities.\"\"\"\n",
    "   #checks if home team is present in the team stats dictionary.\n",
    "    if home_team not in team_stats_dict or away_team not in team_stats_dict:\n",
    "        return np.random.choice([\"H\", \"D\", \"A\"], p=[1/3, 1/3, 1/3])  # No data = fair randomised probability of winning.#\n",
    "                                                                     # Each outcome has a 1/3 of winning #\n",
    "\n",
    "    # increase/decrease the strength by 5% to simulate realistic outcomes.\n",
    "    home_attack = team_stats_dict[home_team][\"Attack_Strength\"] * random.uniform(0.95, 1.05)\n",
    "    away_attack = team_stats_dict[away_team][\"Attack_Strength\"] * random.uniform(0.95, 1.05)\n",
    "    home_defense = team_stats_dict[home_team][\"Defense_Strength\"] * random.uniform(0.95, 1.05)\n",
    "    away_defense = team_stats_dict[away_team][\"Defense_Strength\"] * random.uniform(0.95, 1.05)\n",
    "\n",
    "    # Compute expected goals (Ensure no negative values)\n",
    "    home_expected_goals = max((home_attack + away_defense) / 2, 0.1)  # Minimum 0.1 to avoid zero division\n",
    "    away_expected_goals = max((away_attack + home_defense) / 2, 0.1)\n",
    "\n",
    "    # Compute probabilities (Ensure they sum to 1)\n",
    "    total_goals = home_expected_goals + away_expected_goals\n",
    "    home_win_prob = home_expected_goals / total_goals\n",
    "    away_win_prob = away_expected_goals / total_goals\n",
    "    draw_prob = max(1 - (home_win_prob + away_win_prob), 0)  # Ensure it's not negative\n",
    "\n",
    "    # Adjust Draw Probability Dynamically (Avoid 0% Draws)\n",
    "    #Prevents it being too low /too high by comparing strengths of both teams\n",
    "    draw_prob = max(1 - (home_win_prob + away_win_prob), min(0.3, abs(home_expected_goals - away_expected_goals) / 3))\n",
    "\n",
    "    # Normalize probabilities to sum exactly to 1\n",
    "    total_prob = home_win_prob + draw_prob + away_win_prob\n",
    "    home_win_prob /= total_prob\n",
    "    away_win_prob /= total_prob\n",
    "    draw_prob /= total_prob\n",
    "\n",
    "    #Debugging of Simulation #\n",
    "    print(f\"\\n🔹 Match Simulation: {home_team} (Home) vs {away_team} (Away)\")\n",
    "    print(f\"-----------------------------------------------------\")\n",
    "    print(f\" Adjusted Attack & Defense Strengths:\")  #in 3 decimal Places\n",
    "    print(f\" {home_team} - Attack: {home_attack:.3f}, Defense: {home_defense:.3f}\")\n",
    "    print(f\" {away_team} - Attack: {away_attack:.3f}, Defense: {away_defense:.3f}\")\n",
    "\n",
    "    print(f\"\\n Expected Goals:\")\n",
    "    print(f\"   {home_team} Expected Goals: {home_expected_goals:.3f}\")\n",
    "    print(f\"   {away_team} Expected Goals: {away_expected_goals:.3f}\")\n",
    "\n",
    "    print(f\"\\n Win/Loss/Draw Probabilities:\")\n",
    "    print(f\"   {home_team} Win Probability: {home_win_prob:.4f} ({home_win_prob * 100:.2f}%)\") #Made as a Precentage\n",
    "    print(f\"   Draw Probability: {draw_prob:.4f} ({draw_prob * 100:.2f}%)\")\n",
    "    print(f\"   {away_team} Win Probability: {away_win_prob:.4f} ({away_win_prob * 100:.2f}%)\")#Made as a Precentage\n",
    "\n",
    "    print(f\"\\n Probability Sum Check: {home_win_prob + draw_prob + away_win_prob:.4f} (Should be 1.0000)\")\n",
    "    print(f\"-----------------------------------------------------\\n\")\n",
    "\n",
    "\n",
    "    return np.random.choice([\"H\", \"D\", \"A\"], p=[home_win_prob, draw_prob, away_win_prob])\n",
    "\n",
    "    #Testing of Monte Carlo simulation #\n",
    "\n",
    "home_team = \"Manchester City\"\n",
    "away_team = \"Liverpool\"\n",
    "\n",
    "# Run the simulation for testing\n",
    "for i in range(1):\n",
    "    result = simulate_match(home_team, away_team)\n",
    "    print(f\"Match {i+1}: {home_team} vs {away_team} -> Result: {result}\")"
   ]
  },
  {
   "cell_type": "markdown",
   "metadata": {
    "id": "79DdBNYkgYmH"
   },
   "source": [
    "# **Simulate an Entire Premier League Season**"
   ]
  },
  {
   "cell_type": "code",
   "execution_count": null,
   "metadata": {
    "executionInfo": {
     "elapsed": 5875,
     "status": "aborted",
     "timestamp": 1741460943589,
     "user": {
      "displayName": "Krae",
      "userId": "17764000611175199353"
     },
     "user_tz": 0
    },
    "id": "YajDSC28gcY_"
   },
   "outputs": [],
   "source": [
    "def simulate_future_season(teams):\n",
    "    \"\"\"Simulates a generic future Premier League season using historical team performance metrics.\"\"\"\n",
    "    standings = {team: 0 for team in teams}  # Initialize points table\n",
    "    matches = [(home, away) for home in teams for away in teams if home != away]\n",
    "\n",
    "    # Use historical team stats to simulate match outcomes\n",
    "    results = [simulate_match(home, away) for home, away in matches]\n",
    "\n",
    "    for (home, away), result in zip(matches, results):\n",
    "        if result == \"H\":\n",
    "            standings[home] += 3\n",
    "        elif result == \"D\":\n",
    "            standings[home] += 1\n",
    "            standings[away] += 1\n",
    "        else:\n",
    "            standings[away] += 3\n",
    "\n",
    "    df = pd.DataFrame(standings.items(), columns=[\"Team\", \"Points\"])\n",
    "    # Add a small random noise to prevent extreme overconfidence\n",
    "    df[\"Points\"] += np.random.uniform(-3, 3, len(df))\n",
    "    # Sort again after adding noise\n",
    "    df = df.sort_values(by=\"Points\", ascending=False)\n",
    "    return df\n"
   ]
  },
  {
   "cell_type": "markdown",
   "metadata": {
    "id": "5B3zPzCygjGi"
   },
   "source": [
    "# **Run Monte Carlo Simulations (1,000 Seasons)**"
   ]
  },
  {
   "cell_type": "code",
   "execution_count": null,
   "metadata": {
    "executionInfo": {
     "elapsed": 5875,
     "status": "aborted",
     "timestamp": 1741460943590,
     "user": {
      "displayName": "Krae",
      "userId": "17764000611175199353"
     },
     "user_tz": 0
    },
    "id": "8IdUlXMlgmxH"
   },
   "outputs": [],
   "source": [
    "# Get teams that played in the latest season\n",
    "latest_season = data[\"Season\"].max()\n",
    "valid_teams = data[data[\"Season\"] == latest_season][\"Team\"].tolist()\n",
    "\n",
    "# Filter historical teams to only those still in the Premier League\n",
    "historical_teams = [team for team in team_performance[\"Team\"] if team in valid_teams]\n",
    "\n",
    "# Run Monte Carlo Simulation (1,000 seasons)\n",
    "num_simulations = 1000\n",
    "final_rankings = {team: [] for team in historical_teams}\n",
    "\n",
    "for _ in range(num_simulations):\n",
    "    season_results = simulate_future_season(historical_teams)\n",
    "    for rank, row in season_results.iterrows():\n",
    "        if row[\"Team\"] in final_rankings:  # Ensure team exists before adding\n",
    "            final_rankings[row[\"Team\"]].append(rank + 1)  # Store ranking for each team"
   ]
  },
  {
   "cell_type": "markdown",
   "metadata": {
    "id": "jr8YUCwyg8G0"
   },
   "source": [
    "# **Compute Final Predicted Standings**"
   ]
  },
  {
   "cell_type": "code",
   "execution_count": null,
   "metadata": {
    "executionInfo": {
     "elapsed": 5892,
     "status": "aborted",
     "timestamp": 1741460943609,
     "user": {
      "displayName": "Krae",
      "userId": "17764000611175199353"
     },
     "user_tz": 0
    },
    "id": "Wvl6111Lg-om"
   },
   "outputs": [],
   "source": [
    "final_rankings_df = pd.DataFrame({team: np.mean(ranks) for team, ranks in final_rankings.items()}, index=[\"Avg Position\"]).T\n",
    "final_rankings_df = final_rankings_df.sort_values(by=\"Avg Position\").head(10)\n",
    "\n",
    "# Print top 10 predicted teams\n",
    "print(\"\\n🏆 **Predicted Future Premier League Standings (Using Historical Data):**\\n\")\n",
    "print(final_rankings_df)"
   ]
  },
  {
   "cell_type": "markdown",
   "metadata": {
    "id": "-LskXPHPzG3n"
   },
   "source": [
    "## **Evaluate Performance**"
   ]
  },
  {
   "cell_type": "markdown",
   "metadata": {
    "id": "cOfgVbVwK3it"
   },
   "source": [
    "**Compute MAE against Actual 2022-23 Standings**"
   ]
  },
  {
   "cell_type": "code",
   "execution_count": null,
   "metadata": {
    "executionInfo": {
     "elapsed": 5893,
     "status": "aborted",
     "timestamp": 1741460943610,
     "user": {
      "displayName": "Krae",
      "userId": "17764000611175199353"
     },
     "user_tz": 0
    },
    "id": "jlaO-C8uKyRP"
   },
   "outputs": [],
   "source": [
    "# Extract actual 2022-23 rankings\n",
    "latest_season = data[\"Season\"].max()\n",
    "latest_season_data = data[data[\"Season\"] == latest_season]\n",
    "actual_rankings_top_10 = dict(zip(latest_season_data[\"Team\"], latest_season_data[\"Pos\"]))\n",
    "\n",
    "# Convert predicted rankings to a dictionary\n",
    "predicted_rankings = final_rankings_df[\"Avg Position\"].to_dict()\n",
    "\n",
    "# Ensure both actual and predicted rankings have the same teams\n",
    "common_teams = set(actual_rankings_top_10.keys()) & set(predicted_rankings.keys())\n",
    "\n",
    "# Compute MAE\n",
    "actual_values = [actual_rankings_top_10[team] for team in common_teams]\n",
    "predicted_values = [predicted_rankings[team] for team in common_teams]\n",
    "\n",
    "mae = mean_absolute_error(actual_values, predicted_values)\n",
    "print(f\"✅ Mean Absolute Error (MAE) for Future Predictions vs 2022-23: {mae}\")"
   ]
  },
  {
   "cell_type": "markdown",
   "metadata": {
    "id": "I0EROilOhFvQ"
   },
   "source": [
    "# **Predict the Most Likely Champion**"
   ]
  },
  {
   "cell_type": "code",
   "execution_count": null,
   "metadata": {
    "executionInfo": {
     "elapsed": 5893,
     "status": "aborted",
     "timestamp": 1741460943611,
     "user": {
      "displayName": "Krae",
      "userId": "17764000611175199353"
     },
     "user_tz": 0
    },
    "id": "wKAgMUqwLDQR"
   },
   "outputs": [],
   "source": [
    "winner_counts = {team: final_rankings[team].count(1) for team in final_rankings.keys()}\n",
    "winner_probabilities = {team: count / num_simulations for team, count in winner_counts.items()}\n",
    "\n",
    "# Convert to DataFrame\n",
    "winner_df = pd.DataFrame(list(winner_probabilities.items()), columns=[\"Team\", \"Win Probability\"])\n",
    "winner_df = winner_df.sort_values(by=\"Win Probability\", ascending=False)\n",
    "\n",
    "# Print the most likely winner\n",
    "print(\"\\n🏆 **Most Likely Premier League Winner (Based on Simulations):**\\n\")\n",
    "print(winner_df.head(1))  # Show the most likely champion"
   ]
  }
 ],
 "metadata": {
  "colab": {
   "collapsed_sections": [
    "au1H1DxmbD3J"
   ],
   "provenance": []
  },
  "kernelspec": {
   "display_name": "Python 3 (ipykernel)",
   "language": "python",
   "name": "python3"
  },
  "language_info": {
   "codemirror_mode": {
    "name": "ipython",
    "version": 3
   },
   "file_extension": ".py",
   "mimetype": "text/x-python",
   "name": "python",
   "nbconvert_exporter": "python",
   "pygments_lexer": "ipython3",
   "version": "3.11.5"
  }
 },
 "nbformat": 4,
 "nbformat_minor": 4
}
